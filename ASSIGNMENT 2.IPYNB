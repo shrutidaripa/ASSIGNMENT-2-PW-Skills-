{
 "cells": [
  {
   "cell_type": "markdown",
   "id": "283dea14",
   "metadata": {},
   "source": [
    "# ASSIGNMENT 2"
   ]
  },
  {
   "cell_type": "markdown",
   "id": "3da9f9ae",
   "metadata": {},
   "source": [
    "Q1. How do you comment code in Python? What are the different types of comments?\n",
    "ANS:-Comments are essential for making your code more readable, understandable, and maintainable. They are lines of text that are ignored by the Python interpreter when the code is executed. There are three main types of comments in Python:\n",
    "Single-Line Comments:\n",
    "\n",
    "Use the hash symbol (#) at the beginning of the line.\n",
    "Everything following the # symbol on that line is considered a comment.\n",
    "\n",
    "Multi-Line Comments (Workaround):\n",
    "Python doesn't have a dedicated syntax for multi-line comments.\n",
    "Multiline String Literals (Not Assigning): Define a multiline string literal (triple-quoted strings using single (''') or double (\"\"\")) quotes) and don't assign it to a variable. The interpreter will ignore the content.\n",
    "Docstrings (Documentation Strings):\n",
    "\n",
    "Special type of multiline string literal used to provide comprehensive documentation for functions, classes, and modules.\n",
    "Defined within the function, class, or module definition using triple quotes."
   ]
  },
  {
   "cell_type": "markdown",
   "id": "ec02ab2b",
   "metadata": {},
   "source": [
    "Q2. What are variables in Python? How do you declare and assign values to variables?\n",
    "ANS:-In Python, variables act as named containers that store data values. They allow you to work with data efficiently during program execution.\n",
    "Declaring and Assigning Values\n",
    "\n",
    "Unlike some programming languages, Python doesn't require explicit variable declaration. A variable is automatically created the moment you assign a value to it using the equal sign (=).\n",
    "variable_name: This is the name you choose for your variable. It should be descriptive and follow Python's naming conventions:\n",
    "\n",
    "Start with a letter or underscore (_).\n",
    "Contain only letters, numbers, and underscores.\n",
    "Be case-sensitive (e.g., age is different from Age).\n",
    "Avoid using reserved keywords (words with special meanings in Python).\n",
    "value: This is the data you want to store in the variable. Python supports various data types, including:\n",
    "\n",
    "Numbers (integers, floats)\n",
    "Strings (text enclosed in quotes)\n",
    "Booleans (True or False)\n",
    "Lists (ordered collections of items enclosed in square brackets [])\n",
    "Tuples (immutable ordered collections enclosed in parentheses ())\n",
    "Dictionaries (unordered key-value pairs enclosed in curly braces {})"
   ]
  },
  {
   "cell_type": "markdown",
   "id": "64a6bd3d",
   "metadata": {},
   "source": [
    "Q3. How do you convert one data type to another in Python?\n",
    "ANS:-Python offers two main ways to convert data types:\n",
    "\n",
    "1. Implicit Type Conversion (Automatic)\n",
    "\n",
    "Python interpreter automatically converts data types when necessary to perform operations. This happens when the data types involved are compatible.\n",
    "Example:\n",
    "Python\n",
    "x = 10  # Integer\n",
    "y = 3.14  # Float\n",
    "z = x + y  # Implicit conversion to float for arithmetic\n",
    "print(z)  # Output: 13.14 (float)\n",
    "\n",
    "2. Explicit Type Conversion (Manual)\n",
    "\n",
    "You control the conversion using built-in functions like int(), float(), str(), bool(), etc.\n",
    "Common Functions:\n",
    "int(x): Converts x to an integer (e.g., float to int, string representing a number to int). If conversion is not possible (e.g., converting a string with non-numeric characters), a ValueError is raised.\n",
    "float(x): Converts x to a floating-point number (e.g., int to float, string representing a number to float). Similar to int(), it might raise a ValueError.\n",
    "str(x): Converts x to a string representation (e.g., int, float, bool, list, tuple, dictionary).\n",
    "bool(x): Converts x to a Boolean value (True or False). 0, empty strings, empty lists/tuples/dictionaries, and None evaluate to False, while other values are True.\n",
    "Examples:\n",
    "\n",
    "Python\n",
    "age_str = \"25\"\n",
    "age_int = int(age_str)  # Convert string to integer (assuming the string represents a valid number)\n",
    "print(age_int + 5)  # Now you can perform arithmetic operations on age\n",
    "\n",
    "pi_float = 3.14\n",
    "pi_str = str(pi_float)  # Convert float to string\n",
    "print(pi_str + \" is a mathematical constant\")\n",
    "\n",
    "is_empty = []  # Empty list\n",
    "is_empty_bool = bool(is_empty)  # Convert empty list to boolean (False)\n",
    "print(is_empty_bool)\n"
   ]
  },
  {
   "cell_type": "markdown",
   "id": "5a466f01",
   "metadata": {},
   "source": [
    "Q4. How do you write and execute a Python script from the command line?\n",
    "ANS:-. Write Your Python Script:\n",
    "\n",
    "Create a new text file using a text editor of your choice (e.g., Notepad, Sublime Text, Visual Studio Code).\n",
    "Save the file with a .py extension. This is crucial as it tells the system it's a Python script.\n",
    "Write your Python code in the file, following Python's syntax and indentation rules.\n",
    "Example Script (hello_world.py):\n",
    "\n",
    "2. Open a Command Prompt or Terminal:\n",
    "\n",
    "Windows: Search for \"Command Prompt\" or \"cmd\" in the Start menu and open it.\n",
    "\n",
    "3. Navigate to the Script's Directory:\n",
    "\n",
    "Use the cd (change directory) command to move to the directory where you saved your Python script. For example:\n",
    "4. Execute the Script:\n",
    "\n",
    "Type the following command, replacing hello_world.py with your script's actual filename:\n",
    "\n",
    "\n"
   ]
  },
  {
   "cell_type": "markdown",
   "id": "0f20bbd0",
   "metadata": {},
   "source": [
    "Q5. Given a list my_list = [1, 2, 3, 4, 5], write the code to slice the list and obtain the sub-list [2, 3].\n",
    "ANS:-"
   ]
  },
  {
   "cell_type": "code",
   "execution_count": 1,
   "id": "c2ec63b3",
   "metadata": {},
   "outputs": [
    {
     "name": "stdout",
     "output_type": "stream",
     "text": [
      "[2, 3]\n"
     ]
    }
   ],
   "source": [
    "my_list = [1, 2, 3, 4, 5]\n",
    "\n",
    "# Slicing the list to get sub-list [2, 3]\n",
    "sub_list = my_list[1:3]  # Start index (inclusive) is 1, end index (exclusive) is 3\n",
    "\n",
    "print(sub_list)  "
   ]
  },
  {
   "cell_type": "markdown",
   "id": "f97a2491",
   "metadata": {},
   "source": [
    "Q6. What is a complex number in mathematics, and how is it represented in Python?\n",
    "ANS:-Complex Numbers in Mathematics\n",
    "Complex numbers are mathematical entities that extend the real number system. They are defined as numbers of the form:\n",
    "\n",
    "z = a + bi\n",
    "where:\n",
    "\n",
    "a is the real part of the complex number.\n",
    "b is the imaginary part of the complex number.\n",
    "i is the imaginary unit, a number that satisfies the property i^2 = -1.\n",
    "Since i^2 = -1, real numbers can be seen as a special case of complex numbers where the imaginary part b is zero (i.e., z = a + 0i).\n",
    "\n",
    "Complex numbers are essential in various fields of mathematics, physics, engineering, and computer science. They are used to represent quantities that have both magnitude and direction (e.g., electrical impedance, wave functions).\n",
    "\n",
    "Complex Numbers in Python\n",
    "Python provides a built-in way to represent and work with complex numbers. You can create a complex number using the complex() function:\n",
    "\n",
    "Python\n",
    "\n",
    "where:\n",
    "\n",
    "a is the real part (can be any number).\n",
    "b is the imaginary part (can be any number).\n",
    "If you only provide one argument, the imaginary part is assumed to be zero:\n",
    "\n",
    "Python\n",
    "z = complex(5)  # Equivalent to complex(5, 0)\n",
    "\n",
    "Accessing Real and Imaginary Parts:\n",
    "\n",
    "Python's complex numbers have attributes to access the real and imaginary parts:\n",
    "\n",
    "Python\n",
    "z = complex(3, 4)\n",
    "real_part = z.real  # Access real part (3)\n",
    "imag_part = z.imag  # Access imaginary part (4)\n",
    "Example:\n",
    "\n",
    "Python\n",
    "z = complex(2, 3)\n",
    "print(z)  # Output: (2+3j)  # j is used to represent the imaginary unit in Python\n",
    "\n",
    "real_part = z.real\n",
    "imag_part = z.imag\n",
    "print(f\"Real part: {real_part}, Imaginary part: {imag_part}\")  # Output: Real part: 2, Imaginary part: 3\n",
    "\n",
    "Complex Number Arithmetic:\n",
    "\n",
    "Python supports standard arithmetic operations (+, -, *, /) for complex numbers. These operations are performed on the real and imaginary parts separately."
   ]
  },
  {
   "cell_type": "markdown",
   "id": "c1bbb899",
   "metadata": {},
   "source": [
    "Q7. What is the correct way to declare a variable named age and assign the value 25 to it?\n",
    "ANS:-In Python, there's no explicit declaration step for variables. You assign a value to a name, and that creates the variable:\n",
    "\n",
    "Python\n",
    "age = 25"
   ]
  },
  {
   "cell_type": "markdown",
   "id": "37954d9b",
   "metadata": {},
   "source": [
    "Q8. Declare a variable named price and assign the value 9.99 to it. What data type does this variable\n",
    "belong to?\n",
    "ANS:-Here's the code to declare a variable named price and assign the value 9.99 to it:\n",
    "\n",
    "Python\n",
    "price = 9.99"
   ]
  },
  {
   "cell_type": "markdown",
   "id": "beed8575",
   "metadata": {},
   "source": [
    "Q9. Create a variable named name and assign your full name to it as a string. How would you print the\n",
    "value of this variable?\n",
    "ANS:-Variable Assignment:\n",
    "\n",
    "Python\n",
    "name = \"Your Full Name\" \n",
    "Printing the Value:\n",
    "\n",
    "Python\n",
    "print(name)"
   ]
  },
  {
   "cell_type": "markdown",
   "id": "7c68e08c",
   "metadata": {},
   "source": [
    "Q10. Given the string \"Hello, World!\", extract the substring \"World\".\n",
    "ANS:-1. String Slicing:\n",
    "\n",
    "Python's string slicing allows you to extract a portion of a string based on character indexes. Here's how to do it:\n",
    "\n",
    "Python\n",
    "original_string = \"Hello, World!\"\n",
    "substring = original_string[7:]  # Extract from index 7 (after the comma) to the end\n",
    "\n",
    "print(substring)  # Output: World!\n",
    "2. String Methods (find() and slicing):\n",
    "\n",
    "You can also combine the find() method to locate the starting position of the substring and then use slicing to extract it:\n",
    "\n",
    "Python\n",
    "original_string = \"Hello, World!\"\n",
    "start_index = original_string.find(\"World\")  # Find the starting index of \"World\"\n",
    "\n",
    "if start_index != -1:  # Check if \"World\" was found (find() returns -1 if not found)\n",
    "    substring = original_string[start_index:]\n",
    "    print(substring)  # Output: World!\n",
    "else:\n",
    "    print(\"Substring 'World' not found in the string.\")"
   ]
  },
  {
   "cell_type": "markdown",
   "id": "29d0beb3",
   "metadata": {},
   "source": [
    "Q11. Create a variable named \"is_student\" and assign it a boolean value indicating whether you are\n",
    "currently a student or not.\n",
    "ANS:-"
   ]
  },
  {
   "cell_type": "code",
   "execution_count": 2,
   "id": "122d4aa4",
   "metadata": {},
   "outputs": [
    {
     "name": "stdout",
     "output_type": "stream",
     "text": [
      "Welcome, student!\n"
     ]
    }
   ],
   "source": [
    "\n",
    "is_student = True  # Replace with False if you're not a student\n",
    "\n",
    "# Example usage (optional):\n",
    "if is_student:\n",
    "    print(\"Welcome, student!\")\n",
    "else:\n",
    "    print(\"Welcome, non-student!\")"
   ]
  }
 ],
 "metadata": {
  "kernelspec": {
   "display_name": "Python 3 (ipykernel)",
   "language": "python",
   "name": "python3"
  },
  "language_info": {
   "codemirror_mode": {
    "name": "ipython",
    "version": 3
   },
   "file_extension": ".py",
   "mimetype": "text/x-python",
   "name": "python",
   "nbconvert_exporter": "python",
   "pygments_lexer": "ipython3",
   "version": "3.11.5"
  }
 },
 "nbformat": 4,
 "nbformat_minor": 5
}
